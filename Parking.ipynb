{
 "nbformat": 4,
 "nbformat_minor": 0,
 "metadata": {
  "colab": {
   "name": "Parking.ipynb",
   "provenance": [],
   "collapsed_sections": []
  },
  "kernelspec": {
   "name": "python3",
   "display_name": "Python 3"
  },
  "accelerator": "GPU"
 },
 "cells": [
  {
   "cell_type": "markdown",
   "metadata": {
    "id": "RxpJvkp0i45X",
    "colab_type": "text",
    "pycharm": {
     "name": "#%% md\n"
    }
   },
   "source": [
    "# Parking Space Detection\n",
    "Cloning M-RCNN repository"
   ]
  },
  {
   "cell_type": "code",
   "metadata": {
    "id": "biEeoxZ96mnf",
    "colab_type": "code",
    "colab": {
     "base_uri": "https://localhost:8080/",
     "height": 102
    },
    "outputId": "514046f6-642c-4282-d347-e77df9a77aff",
    "pycharm": {
     "name": "#%%\n",
     "is_executing": true
    }
   },
   "source": [
    "!git clone https://github.com/matterport/Mask_RCNN"
   ],
   "execution_count": null,
   "outputs": []
  },
  {
   "cell_type": "markdown",
   "metadata": {
    "id": "q6RVTOd-lqAw",
    "colab_type": "text",
    "pycharm": {
     "name": "#%% md\n"
    }
   },
   "source": [
    "### Importing required modules"
   ]
  },
  {
   "cell_type": "code",
   "metadata": {
    "id": "KmZsqYiM6rDN",
    "colab_type": "code",
    "colab": {
     "base_uri": "https://localhost:8080/",
     "height": 97
    },
    "outputId": "6ad54ce6-4adf-4b55-f889-1530d489e58e",
    "pycharm": {
     "name": "#%%\n",
     "is_executing": true
    }
   },
   "source": [
    "import os\n",
    "os.chdir(\"Mask_RCNN/\")\n",
    "\n",
    "import numpy as np\n",
    "import cv2\n",
    "from Mask_RCNN.mrcnn import config\n",
    "from Mask_RCNN.mrcnn import utils\n",
    "from Mask_RCNN.mrcnn.model import MaskRCNN\n",
    "from pathlib import Path\n",
    "# from google.colab.patches import cv2_imshow\n",
    "import pickle\n",
    "\n",
    "from shapely.geometry import box\n",
    "from shapely.geometry import Polygon as shapely_poly\n",
    "from IPython.display import clear_output, Image, display, HTML\n",
    "import io\n",
    "import base64\n",
    "%matplotlib inline"
   ],
   "execution_count": null,
   "outputs": []
  },
  {
   "cell_type": "markdown",
   "metadata": {
    "id": "yUArvFy4lups",
    "colab_type": "text",
    "pycharm": {
     "name": "#%% md\n"
    }
   },
   "source": [
    "### Configuring M-RCNN"
   ]
  },
  {
   "cell_type": "code",
   "metadata": {
    "id": "kNhNipSe80rM",
    "colab_type": "code",
    "colab": {
     "base_uri": "https://localhost:8080/",
     "height": 921
    },
    "outputId": "e845e521-f734-4c60-f81f-df2b25ad8e4c",
    "pycharm": {
     "name": "#%%\n",
     "is_executing": true
    }
   },
   "source": [
    "class Config(config.Config):\n",
    "    NAME = \"coco_pretrained_model_config\"\n",
    "    IMAGES_PER_GPU = 1\n",
    "    GPU_COUNT = 1\n",
    "    NUM_CLASSES = 81\n",
    "\n",
    "config = Config()\n",
    "config.display()"
   ],
   "execution_count": null,
   "outputs": []
  },
  {
   "cell_type": "code",
   "metadata": {
    "id": "Juh-Hok06_ia",
    "colab_type": "code",
    "colab": {},
    "pycharm": {
     "name": "#%%\n",
     "is_executing": true
    }
   },
   "source": [
    "ROOT_DIR = Path(\".\")\n",
    "MODEL_DIR = os.path.join(ROOT_DIR, \"logs\")\n",
    "COCO_MODEL_PATH = os.path.join(ROOT_DIR, \"mask_rcnn_coco.h5\")"
   ],
   "execution_count": null,
   "outputs": []
  },
  {
   "cell_type": "markdown",
   "metadata": {
    "id": "LR1YNJarl9u1",
    "colab_type": "text",
    "pycharm": {
     "name": "#%% md\n"
    }
   },
   "source": [
    "### Download pre-trained Model"
   ]
  },
  {
   "cell_type": "code",
   "metadata": {
    "id": "v0BG-bXy7QV7",
    "colab_type": "code",
    "colab": {
     "base_uri": "https://localhost:8080/",
     "height": 51
    },
    "outputId": "286c9cc0-6430-483b-99c4-5c6484ab7d8d",
    "pycharm": {
     "name": "#%%\n"
    }
   },
   "source": [
    "if not os.path.exists(COCO_MODEL_PATH):\n",
    "    utils.download_trained_weights(COCO_MODEL_PATH)"
   ],
   "execution_count": null,
   "outputs": []
  },
  {
   "cell_type": "markdown",
   "metadata": {
    "id": "8SSD6RRamH3e",
    "colab_type": "text",
    "pycharm": {
     "name": "#%% md\n"
    }
   },
   "source": [
    "# Loading pre-trained model "
   ]
  },
  {
   "cell_type": "code",
   "metadata": {
    "id": "zLO8g8dV7-ol",
    "colab_type": "code",
    "colab": {
     "base_uri": "https://localhost:8080/",
     "height": 496
    },
    "outputId": "6c0f20d7-8810-47c6-8ae5-8d8476452d49",
    "pycharm": {
     "name": "#%%\n"
    }
   },
   "source": [
    "model = MaskRCNN(mode=\"inference\", model_dir=MODEL_DIR, config=Config())"
   ],
   "execution_count": null,
   "outputs": []
  },
  {
   "cell_type": "code",
   "metadata": {
    "id": "_NDUyXt97-yy",
    "colab_type": "code",
    "colab": {
     "base_uri": "https://localhost:8080/",
     "height": 241
    },
    "outputId": "0ac998e3-c420-4a9a-fb95-f19eb69a02ad",
    "pycharm": {
     "name": "#%%\n"
    }
   },
   "source": [
    "model.load_weights(COCO_MODEL_PATH, by_name=True)"
   ],
   "execution_count": null,
   "outputs": []
  },
  {
   "cell_type": "markdown",
   "metadata": {
    "id": "lDVLXxVCmNg7",
    "colab_type": "text",
    "pycharm": {
     "name": "#%% md\n"
    }
   },
   "source": [
    "#### Create data directory"
   ]
  },
  {
   "cell_type": "code",
   "metadata": {
    "id": "_HB3h8yb7kbq",
    "colab_type": "code",
    "colab": {},
    "pycharm": {
     "name": "#%%\n",
     "is_executing": true
    }
   },
   "source": [
    "#  This will contain test videos and images\n",
    "if not os.path.exists(\"./data\"):\n",
    "    os.makedirs(\"./data\")"
   ],
   "execution_count": null,
   "outputs": []
  },
  {
   "cell_type": "markdown",
   "metadata": {
    "id": "omx9aaHSmiam",
    "colab_type": "text",
    "pycharm": {
     "name": "#%% md\n"
    }
   },
   "source": [
    "### Uploading data\n",
    "upload your video file and praking regions file using the sidebar. See image for reference.\n",
    "\n",
    "![alt text](https://i.imgur.com/UMu9xV5.png)\n",
    "\n",
    "After uploading the files. Edit the cell below to load the correct files."
   ]
  },
  {
   "cell_type": "code",
   "metadata": {
    "id": "GSIGwFVbmVnY",
    "colab_type": "code",
    "colab": {},
    "pycharm": {
     "name": "#%%\n"
    }
   },
   "source": [
    "VIDEO_SOURCE = \"data/parking1.mp4\"\n",
    "PARKING_REGIONS = \"data/regions1.p\"\n",
    "with open(PARKING_REGIONS, 'rb') as f:\n",
    "    parked_car_boxes = pickle.load(f)"
   ],
   "execution_count": null,
   "outputs": []
  },
  {
   "cell_type": "markdown",
   "metadata": {
    "id": "Va_mnJJqojTB",
    "colab_type": "text",
    "pycharm": {
     "name": "#%% md\n"
    }
   },
   "source": [
    "### Function to filter out car boxes"
   ]
  },
  {
   "cell_type": "code",
   "metadata": {
    "id": "xuIxxP4lEaIk",
    "colab_type": "code",
    "colab": {},
    "pycharm": {
     "name": "#%%\n"
    }
   },
   "source": [
    "def get_car_boxes(boxes, class_ids):\n",
    "    car_boxes = []\n",
    "\n",
    "    for i, box in enumerate(boxes):\n",
    "        # If the detected object isn't a car / truck, skip it\n",
    "        if class_ids[i] in [3, 8, 6]:\n",
    "            car_boxes.append(box)\n",
    "\n",
    "    return np.array(car_boxes)"
   ],
   "execution_count": null,
   "outputs": []
  },
  {
   "cell_type": "markdown",
   "metadata": {
    "id": "hMD6uopdom-z",
    "colab_type": "text",
    "pycharm": {
     "name": "#%% md\n"
    }
   },
   "source": [
    "### Function to compute IoU"
   ]
  },
  {
   "cell_type": "code",
   "metadata": {
    "id": "iA7WdE7U76oq",
    "colab_type": "code",
    "colab": {},
    "pycharm": {
     "name": "#%%\n"
    }
   },
   "source": [
    "def compute_overlaps(parked_car_boxes, car_boxes):\n",
    "    \n",
    "    new_car_boxes = []\n",
    "    for box in car_boxes:\n",
    "        y1 = box[0]\n",
    "        x1 = box[1]\n",
    "        y2 = box[2]\n",
    "        x2 = box[3]\n",
    "        \n",
    "        p1 = (x1, y1)\n",
    "        p2 = (x2, y1)\n",
    "        p3 = (x2, y2)\n",
    "        p4 = (x1, y2)\n",
    "        new_car_boxes.append([p1, p2, p3, p4])\n",
    "    \n",
    "    overlaps = np.zeros((len(parked_car_boxes), len(new_car_boxes)))\n",
    "    for i in range(len(parked_car_boxes)):\n",
    "        for j in range(car_boxes.shape[0]):\n",
    "            pol1_xy = parked_car_boxes[i]\n",
    "            pol2_xy = new_car_boxes[j]\n",
    "            polygon1_shape = shapely_poly(pol1_xy)\n",
    "            polygon2_shape = shapely_poly(pol2_xy)\n",
    "\n",
    "            polygon_intersection = polygon1_shape.intersection(polygon2_shape).area\n",
    "            polygon_union = polygon1_shape.union(polygon2_shape).area\n",
    "            IOU = polygon_intersection / polygon_union\n",
    "            overlaps[i][j] = IOU\n",
    "\n",
    "    return overlaps"
   ],
   "execution_count": null,
   "outputs": []
  },
  {
   "cell_type": "markdown",
   "metadata": {
    "id": "o0s9J8PwoMiU",
    "colab_type": "text",
    "pycharm": {
     "name": "#%% md\n"
    }
   },
   "source": [
    "### Function to display processed images"
   ]
  },
  {
   "cell_type": "code",
   "metadata": {
    "id": "pmCYrOA2BAxN",
    "colab_type": "code",
    "colab": {},
    "pycharm": {
     "name": "#%%\n"
    }
   },
   "source": [
    "def arrayShow (imageArray):\n",
    "    ret, png = cv2.imencode('.png', imageArray)\n",
    "    encoded = base64.b64encode(png)\n",
    "    return Image(data=encoded.decode('ascii'))"
   ],
   "execution_count": null,
   "outputs": []
  },
  {
   "cell_type": "markdown",
   "metadata": {
    "id": "5BkbSaJ3osS8",
    "colab_type": "text",
    "pycharm": {
     "name": "#%% md\n"
    }
   },
   "source": [
    "### Putting it all together"
   ]
  },
  {
   "cell_type": "code",
   "metadata": {
    "id": "zkH4eJjdBBne",
    "colab_type": "code",
    "colab": {
     "base_uri": "https://localhost:8080/",
     "height": 711
    },
    "outputId": "85d1cc6f-30fd-4eaa-e185-7462cd96a0c0",
    "pycharm": {
     "name": "#%%\n",
     "is_executing": true
    }
   },
   "source": [
    "alpha = 0.6\n",
    "video_capture = cv2.VideoCapture(VIDEO_SOURCE)\n",
    "cnt=0\n",
    "\n",
    "video_FourCC    = cv2.VideoWriter_fourcc('M','J','P','G')\n",
    "video_fps       = video_capture.get(cv2.CAP_PROP_FPS)\n",
    "video_size      = (int(video_capture.get(cv2.CAP_PROP_FRAME_WIDTH)),\n",
    "                    int(video_capture.get(cv2.CAP_PROP_FRAME_HEIGHT)))\n",
    "out = cv2.VideoWriter(\"out.avi\", video_FourCC, video_fps, video_size)\n",
    "\n",
    "while video_capture.isOpened():\n",
    "    success, frame = video_capture.read()\n",
    "    overlay = frame.copy()\n",
    "    if not success:\n",
    "        break\n",
    "\n",
    "    rgb_image = frame[:, :, ::-1]\n",
    "    results = model.detect([rgb_image], verbose=0)\n",
    "\n",
    "    car_boxes = get_car_boxes(results[0]['rois'], results[0]['class_ids'])\n",
    "    overlaps = compute_overlaps(parked_car_boxes, car_boxes)\n",
    "\n",
    "    for parking_area, overlap_areas in zip(parked_car_boxes, overlaps):\n",
    "        max_IoU_overlap = np.max(overlap_areas)\n",
    "        if max_IoU_overlap < 0.15:\n",
    "            cv2.fillPoly(overlay, [np.array(parking_area)], (71, 27, 92))\n",
    "            free_space = True      \n",
    "    cv2.addWeighted(overlay, alpha, frame, 1 - alpha, 0, frame)\n",
    "\n",
    "    out.write(frame)\n",
    "\n",
    "    clear_output(wait=True)\n",
    "    img = arrayShow(frame)\n",
    "    display(img)\n",
    "\n",
    "    if cv2.waitKey(1) & 0xFF == ord('q'):\n",
    "        break\n",
    "\n",
    "video_capture.release()\n",
    "out.release()\n",
    "cv2.destroyAllWindows()"
   ],
   "execution_count": null,
   "outputs": []
  },
  {
   "cell_type": "code",
   "metadata": {
    "id": "WdfYs0uUENpd",
    "colab_type": "code",
    "colab": {},
    "pycharm": {
     "name": "#%%\n"
    }
   },
   "source": [],
   "execution_count": null,
   "outputs": []
  }
 ]
}